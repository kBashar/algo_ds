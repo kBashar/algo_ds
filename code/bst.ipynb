{
 "cells": [
  {
   "cell_type": "code",
   "execution_count": 74,
   "metadata": {},
   "outputs": [],
   "source": [
    "\n",
    "class Node:\n",
    "    \n",
    "    def __init__(self, key, parent=None):\n",
    "        '''\n",
    "        Node class has four attributes\n",
    "        1. key --> key or the value to store at a node\n",
    "        2. left --> left child node\n",
    "        3. right --> right child node\n",
    "        4. parent --> parent of the node\n",
    "        '''\n",
    "        self.key = key\n",
    "        self.left = None\n",
    "        self.right = None\n",
    "        self.parent = parent\n",
    "    \n",
    "    def addValue(self, key):\n",
    "        '''\n",
    "        this is a recursive method that check if the node key value is\n",
    "        less or greater then the provided key to be inserted into the tree.\n",
    "        If the key is less then the node.key then the key will be sent down the \n",
    "        left subtree. Same goes for a key value that is greater than the node key\n",
    "        value.\n",
    "        '''\n",
    "        if key<self.key:\n",
    "            if self.left is None:\n",
    "                self.left = Node(key, self)\n",
    "                return self.left\n",
    "            else:\n",
    "                return self.left.addValue(key)\n",
    "        elif key>self.key:\n",
    "            if self.right is None:\n",
    "                self.right = Node(key, self)\n",
    "                return self.right\n",
    "            else:\n",
    "                return self.right.addValue(key)\n",
    "        else:\n",
    "            print(\"This key is already in tree\")\n",
    "    \n",
    "    def traverse(self):\n",
    "        '''\n",
    "        this method of the node traverses left subtree first then\n",
    "        prints(executes) itself and then goes on to traverse right subtree\n",
    "        '''\n",
    "        if self.left is not None:\n",
    "            self.left.traverse()\n",
    "        print(self.key)\n",
    "        if self.right is not None:\n",
    "            self.right.traverse()\n",
    "    \n",
    "    def search(self, key):\n",
    "        '''\n",
    "        serach function first checks if this node holds the search key\n",
    "        if yes then returns the value\n",
    "        else if the search key is less then the node key then a search is \n",
    "            commenced at left subtree\n",
    "        else if the search key is greater then the node key then a search is \n",
    "            commenced at right subtree\n",
    "        if all fails, it means the search has come an extreme edge and no match has\n",
    "            been found, thus function returns None\n",
    "        '''\n",
    "        if self.key == key:\n",
    "            return self\n",
    "        elif key < self.key and self.left is not None:\n",
    "            return self.left.search(key)\n",
    "        elif key > self.key and self.right is not None:\n",
    "            return self.right.search(key)\n",
    "        else:\n",
    "            return None\n",
    "    \n",
    "    def delete(self):\n",
    "        '''\n",
    "        Three cases to be considered before deleting a node.\n",
    "        1. A Node without any child.\n",
    "        '''\n",
    "        node = self\n",
    "        # the Node has no child \n",
    "        if node.left is None and node.right is None:\n",
    "            print(\"there is no child\")\n",
    "            node.__remove_node__()\n",
    "        # the Node has only left child\n",
    "        elif node.left is not None and node.right is None:\n",
    "            print(\"# the Node has only left child\")\n",
    "            node.__replace_node__(node.left)\n",
    "            node.left.__remove_node__()\n",
    "        # the Node has only right child\n",
    "        elif node.left is None and node.right is not None:\n",
    "            print(\"# the Node has only right child\")\n",
    "            node.__replace_node__(node.right)\n",
    "            node.right.__remove_node__()\n",
    "        # node has both left and right child\n",
    "        else:\n",
    "            print('# node has both left and right child')\n",
    "            pre_node = node.__get_predecessor__()\n",
    "            node.__replace_node__(pre_node)\n",
    "            pre_node.__remove_node__()\n",
    "    \n",
    "    def __get_predecessor__(self):\n",
    "        '''\n",
    "        a node's in-order predecessor is the left subtree's right-most child.\n",
    "        '''\n",
    "        # first take the left child\n",
    "        node = self.left\n",
    "        # traverse to the rightest child\n",
    "        while node.right:\n",
    "            node = node.right\n",
    "        return node\n",
    "    \n",
    "    def __replace_node__(self, replacing_node):\n",
    "        '''\n",
    "        self is to be replace with replace_node\n",
    "        simply interchanging their key will suffice\n",
    "        '''\n",
    "        #replacing_node.parent = self.parent\n",
    "        #if self.parent.left is self:\n",
    "        #    self.parent.left = replacing_node\n",
    "        #else:\n",
    "        #   self.parent.right = replacing_node\n",
    "        \n",
    "        replacing_node.key, self.key = self.key, replacing_node.key\n",
    "        \n",
    "    def __remove_node__(self):\n",
    "        '''\n",
    "        this assumes there is a parent for every node. So root node can not be \n",
    "        called on this function. To remove or severe the node from the tree\n",
    "            a. test if this node is left or right child of the parent.\n",
    "            b. set 'None' to that child of the parent.\n",
    "        '''\n",
    "        if self.parent.left is self:\n",
    "            print(self.key)\n",
    "            self.parent.left = None\n",
    "        else:\n",
    "            self.parent.right = None\n",
    "    \n",
    "    def __str__(self):\n",
    "        return str(self.key)\n",
    "        \n",
    "class Tree:\n",
    "    \n",
    "    def __init__(self):\n",
    "        self.root = None\n",
    "    \n",
    "    def addNode(self, key):\n",
    "        # if the root is not yet initialized then first create the Root node\n",
    "        if self.root is None:\n",
    "            self.root = Node(key)\n",
    "        else:\n",
    "            self.root.addValue(key)\n",
    "    \n",
    "    def searchNode(self, key):\n",
    "        result = self.root.search(key)\n",
    "        if result is not None:\n",
    "            print('{} found\\nleft: {}\\nright: {}'.format(result, result.left, result.right))\n",
    "        else:\n",
    "            print('{} Not found'.format(key))\n",
    "    \n",
    "    def deleteNode(self, key):\n",
    "        result = self.root.search(key)\n",
    "        if result is not None:\n",
    "            result.delete()\n",
    "        else:\n",
    "            print('{} Not found'.format(key))"
   ]
  },
  {
   "cell_type": "code",
   "execution_count": 12,
   "metadata": {},
   "outputs": [],
   "source": [
    "ToDo:\n",
    "    create a tree that will be predictable to debug\n",
    "    find a way to print the tree graphically\n",
    "    debug the code"
   ]
  },
  {
   "cell_type": "code",
   "execution_count": 75,
   "metadata": {},
   "outputs": [
    {
     "name": "stdout",
     "output_type": "stream",
     "text": [
      "--------------Tree--------\n",
      "1\n",
      "2\n",
      "5\n",
      "13\n",
      "15\n",
      "36\n",
      "37\n",
      "39\n",
      "59\n",
      "60\n",
      "68\n",
      "71\n"
     ]
    }
   ],
   "source": [
    "tree = Tree()\n",
    "ns = [59, 15, 2, 68, 71, 60, 5, 1, 13, 37, 36, 39]\n",
    "\n",
    "for n in ns:\n",
    "    tree.addNode(n)\n",
    "print(\"--------------Tree--------\")\n",
    "tree.root.traverse()"
   ]
  },
  {
   "cell_type": "code",
   "execution_count": 80,
   "metadata": {},
   "outputs": [
    {
     "name": "stdout",
     "output_type": "stream",
     "text": [
      "# node has both left and right child\n"
     ]
    }
   ],
   "source": [
    "tree.deleteNode(59)"
   ]
  },
  {
   "cell_type": "code",
   "execution_count": 73,
   "metadata": {},
   "outputs": [
    {
     "name": "stdout",
     "output_type": "stream",
     "text": [
      "36 found\n",
      "left: None\n",
      "right: None\n"
     ]
    }
   ],
   "source": [
    "tree.searchNode(36)"
   ]
  },
  {
   "cell_type": "code",
   "execution_count": 81,
   "metadata": {},
   "outputs": [
    {
     "name": "stdout",
     "output_type": "stream",
     "text": [
      "1\n",
      "2\n",
      "13\n",
      "15\n",
      "36\n",
      "39\n",
      "60\n",
      "68\n",
      "71\n"
     ]
    }
   ],
   "source": [
    "tree.root.traverse()"
   ]
  },
  {
   "cell_type": "code",
   "execution_count": 10,
   "metadata": {},
   "outputs": [],
   "source": [
    "tree.addNode(21)"
   ]
  },
  {
   "cell_type": "code",
   "execution_count": 61,
   "metadata": {},
   "outputs": [],
   "source": [
    "node37 = tree.root.search(37)\n",
    "node36 = tree.root.search(39)"
   ]
  },
  {
   "cell_type": "code",
   "execution_count": 63,
   "metadata": {},
   "outputs": [],
   "source": [
    "node36.__remove_node__()"
   ]
  },
  {
   "cell_type": "code",
   "execution_count": null,
   "metadata": {},
   "outputs": [],
   "source": []
  }
 ],
 "metadata": {
  "kernelspec": {
   "display_name": "Python 3",
   "language": "python",
   "name": "python3"
  },
  "language_info": {
   "codemirror_mode": {
    "name": "ipython",
    "version": 3
   },
   "file_extension": ".py",
   "mimetype": "text/x-python",
   "name": "python",
   "nbconvert_exporter": "python",
   "pygments_lexer": "ipython3",
   "version": "3.6.9"
  }
 },
 "nbformat": 4,
 "nbformat_minor": 4
}
